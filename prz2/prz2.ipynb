{
  "nbformat": 4,
  "nbformat_minor": 0,
  "metadata": {
    "colab": {
      "provenance": []
    },
    "kernelspec": {
      "name": "python3",
      "display_name": "Python 3"
    },
    "language_info": {
      "name": "python"
    }
  },
  "cells": [
    {
      "cell_type": "markdown",
      "source": [
        "# Практическое задание №2: Исследование атак на модели ИИ. Fast Gradient Sign Method (FGSM)\n",
        "## Выполнил студент группы ББМО-01-23 Агасиев Максим Артурович"
      ],
      "metadata": {
        "id": "jtGUYYyt8xdO"
      }
    },
    {
      "cell_type": "markdown",
      "source": [
        "### 1. Загрузка обученной модели и данных MNIST"
      ],
      "metadata": {
        "id": "RL7DJpyHBWCj"
      }
    },
    {
      "cell_type": "code",
      "source": [
        "import tensorflow as tf\n",
        "from tensorflow.keras.datasets import mnist\n",
        "from tensorflow.keras.utils import to_categorical\n",
        "\n",
        "# Загрузка тестовых данных MNIST\n",
        "(_, _), (test_images, test_labels) = mnist.load_data()\n",
        "\n",
        "# Нормализация данных\n",
        "test_images = test_images / 255.0\n",
        "\n",
        "# Преобразование меток в категориальный формат\n",
        "test_labels = to_categorical(test_labels, num_classes=10)\n",
        "\n",
        "# Загрузка обученной модели\n",
        "model = tf.keras.models.load_model('mnist_model.h5')\n",
        "\n",
        "# Проверка точности модели на обычных данных\n",
        "test_loss, test_acc = model.evaluate(test_images, test_labels)\n",
        "print(f'Test accuracy on clean images: {test_acc}')"
      ],
      "metadata": {
        "colab": {
          "base_uri": "https://localhost:8080/"
        },
        "id": "kKDu7xmj8-6B",
        "outputId": "af44d89d-d3f4-485f-bf13-56503e7d6f84"
      },
      "execution_count": 3,
      "outputs": [
        {
          "output_type": "stream",
          "name": "stderr",
          "text": [
            "WARNING:absl:Compiled the loaded model, but the compiled metrics have yet to be built. `model.compile_metrics` will be empty until you train or evaluate the model.\n"
          ]
        },
        {
          "output_type": "stream",
          "name": "stdout",
          "text": [
            "\u001b[1m313/313\u001b[0m \u001b[32m━━━━━━━━━━━━━━━━━━━━\u001b[0m\u001b[37m\u001b[0m \u001b[1m1s\u001b[0m 2ms/step - accuracy: 0.9731 - loss: 0.0858\n",
            "Test accuracy on clean images: 0.9772999882698059\n"
          ]
        }
      ]
    },
    {
      "cell_type": "markdown",
      "source": [
        "### 2. Реализация атаки FGSM"
      ],
      "metadata": {
        "id": "OAfZTAnc-jTE"
      }
    },
    {
      "cell_type": "code",
      "source": [
        "import numpy as np\n",
        "\n",
        "def fgsm_attack(image, epsilon, gradient):\n",
        "  perturbed_image = image + epsilon * np.sign(gradient) # Применение знака градиента к изображению\n",
        "  perturbed_image = np.clip(perturbed_image, 0, 1) # Обрезка значений, чтобы они оставались в пределах [0,1]\n",
        "  return perturbed_image\n",
        "\n",
        "# Вычисление градиента\n",
        "def generate_adversarial_example(model, image, label, epsilon):\n",
        "    image = tf.convert_to_tensor(image.reshape((1, 28, 28, 1))) # Превращаем изображение в формат, подходящий для модели\n",
        "\n",
        "    # Если label — это one-hot вектор, преобразуем его в индекс\n",
        "    if len(label.shape) > 1 and label.shape[1] > 1:\n",
        "        label = np.argmax(label)\n",
        "    label = tf.convert_to_tensor(label)\n",
        "\n",
        "    with tf.GradientTape() as tape:\n",
        "        tape.watch(image)\n",
        "        prediction = model(image)\n",
        "        loss = tf.keras.losses.categorical_crossentropy(label[None], prediction)\n",
        "\n",
        "    gradient = tape.gradient(loss, image)\n",
        "    adversarial_image = fgsm_attack(image.numpy(), epsilon, gradient.numpy())\n",
        "\n",
        "    return np.reshape(adversarial_image, (28, 28, 1))\n",
        "\n",
        "epsilon = 0.1  # Величина шума\n",
        "adversarial_example = generate_adversarial_example(model, test_images[0], test_labels[0], epsilon)\n",
        "\n",
        "import matplotlib.pyplot as plt\n",
        "plt.figure()\n",
        "plt.subplot(1, 2, 1)\n",
        "plt.title(\"Оригинальное изображение\")\n",
        "plt.imshow(test_images[0], cmap=\"gray\")\n",
        "plt.subplot(1, 2, 2)\n",
        "plt.title(\"Противоречивое изображение\")\n",
        "plt.imshow(adversarial_example.reshape(28, 28), cmap=\"gray\")\n",
        "plt.show()"
      ],
      "metadata": {
        "colab": {
          "base_uri": "https://localhost:8080/",
          "height": 328
        },
        "id": "irVvEFNZ-n3I",
        "outputId": "d1304953-5be0-4560-d048-44d0aa4a8966"
      },
      "execution_count": 4,
      "outputs": [
        {
          "output_type": "display_data",
          "data": {
            "text/plain": [
              "<Figure size 640x480 with 2 Axes>"
            ],
            "image/png": "[encoded data removed]"
          },
          "metadata": {}
        }
      ]
    },
    {
      "cell_type": "markdown",
      "source": [
        "### 3. Оценка модели на противоречивых примерах"
      ],
      "metadata": {
        "id": "eCfoL8EXBPxH"
      }
    },
    {
      "cell_type": "code",
      "source": [
        "# Генерация противоречивых примеров для всего набора данных\n",
        "def generate_adversarial_dataset(model, images, labels, epsilon):\n",
        "    adversarial_images = []\n",
        "    for i in range(len(images)):\n",
        "        adv_image = generate_adversarial_example(model, images[i], labels[i], epsilon)\n",
        "        adversarial_images.append(adv_image.reshape(28, 28))\n",
        "\n",
        "    adversarial_images = np.array(adversarial_images)\n",
        "\n",
        "    return adversarial_images\n",
        "\n",
        "# Генерация противоречивых примеров\n",
        "adversarial_images = generate_adversarial_dataset(model, test_images, test_labels, epsilon)\n",
        "\n",
        "# Оценка модели на противоречивых примерах\n",
        "adversarial_loss, adversarial_acc = model.evaluate(adversarial_images, test_labels)\n",
        "print(f'Accuracy on a small subset of adversarial examples: {adversarial_acc}')"
      ],
      "metadata": {
        "colab": {
          "base_uri": "https://localhost:8080/"
        },
        "id": "3oDlwqN5BRlI",
        "outputId": "b0c39061-e20a-4c66-8b0b-246b3d3a2edd"
      },
      "execution_count": 5,
      "outputs": [
        {
          "output_type": "stream",
          "name": "stdout",
          "text": [
            "\u001b[1m313/313\u001b[0m \u001b[32m━━━━━━━━━━━━━━━━━━━━\u001b[0m\u001b[37m\u001b[0m \u001b[1m1s\u001b[0m 2ms/step - accuracy: 0.0997 - loss: 6.2743\n",
            "Accuracy on a small subset of adversarial examples: 0.13179999589920044\n"
          ]
        }
      ]
    },
    {
      "cell_type": "markdown",
      "source": [
        "### 4. Сравнение результатов"
      ],
      "metadata": {
        "id": "hnph2g24C3Z0"
      }
    },
    {
      "cell_type": "code",
      "source": [
        "print(f'Точность на чистых изображениях: {test_acc}')\n",
        "print(f'Точность на противоречивых примерах: {adversarial_acc}')"
      ],
      "metadata": {
        "colab": {
          "base_uri": "https://localhost:8080/"
        },
        "id": "DA9Xnse0DGis",
        "outputId": "9f30c3e7-2d6d-4699-bd56-bc1c900949b8"
      },
      "execution_count": 6,
      "outputs": [
        {
          "output_type": "stream",
          "name": "stdout",
          "text": [
            "Точность на чистых изображениях: 0.9772999882698059\n",
            "Точность на противоречивых примерах: 0.13179999589920044\n"
          ]
        }
      ]
    }
  ]
}